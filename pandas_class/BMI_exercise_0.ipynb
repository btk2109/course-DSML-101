{
 "cells": [
  {
   "cell_type": "markdown",
   "metadata": {},
   "source": [
    "# Exercise: Body Mass Index program in Python\n",
    "### if bmi <= 18.5 then Underweight\n",
    "### if bmi > 18.5 and bmi < 25.0 then Normal\n",
    "### if bmi >= 25.0 and bmi < 30.0 then Overweight\n",
    "### if bmi >= 30 then Obese"
   ]
  },
  {
   "cell_type": "code",
   "execution_count": null,
   "metadata": {
    "collapsed": true
   },
   "outputs": [],
   "source": [
    "# import all the libraries we need\n",
    "import numpy as np\n",
    "import matplotlib.pyplot as plt"
   ]
  },
  {
   "cell_type": "code",
   "execution_count": null,
   "metadata": {
    "collapsed": true
   },
   "outputs": [],
   "source": [
    "np.random.seed(0) # to ensure we all have the same values"
   ]
  },
  {
   "cell_type": "code",
   "execution_count": null,
   "metadata": {},
   "outputs": [],
   "source": [
    "N = 1000 # number of people in the dataset\n",
    "age = np.random.randint(12, 95, N) # \n",
    "weight = np.random.uniform(40, 201, N) # kilograms\n",
    "# height = ?\n",
    "# gender = ?\n",
    "age"
   ]
  },
  {
   "cell_type": "code",
   "execution_count": null,
   "metadata": {
    "collapsed": true
   },
   "outputs": [],
   "source": [
    "def calculate_bmi(w, h):\n",
    "    # input your code here...\n",
    "    \n",
    "    return bmi_list"
   ]
  },
  {
   "cell_type": "code",
   "execution_count": null,
   "metadata": {},
   "outputs": [],
   "source": [
    "# calculate the BMI and return a list for each person in the dataset\n",
    "bmi = calculate_bmi(weight, height)\n",
    "print(bmi)"
   ]
  },
  {
   "cell_type": "code",
   "execution_count": null,
   "metadata": {
    "collapsed": true
   },
   "outputs": [],
   "source": [
    "def bodyCondition(_bmi):\n",
    "    # input your code here...\n",
    "        \n",
    "    return cnd"
   ]
  },
  {
   "cell_type": "code",
   "execution_count": null,
   "metadata": {},
   "outputs": [],
   "source": [
    "# return person body's condition\n",
    "bodyCnd = bodyCondition(bmi[0])\n",
    "print(bodyCnd)"
   ]
  },
  {
   "cell_type": "code",
   "execution_count": null,
   "metadata": {
    "collapsed": true
   },
   "outputs": [],
   "source": [
    "def groupOfPeople():\n",
    "    under = 0\n",
    "    normal = 0\n",
    "    over = 0\n",
    "    obe = 0\n",
    "    for i in range(len(bmi)):\n",
    "        bc = bodyCondition(bmi[i])\n",
    "        print('bmi= ' + str(bmi[i]))\n",
    "        print('bc = ' + str(bc))\n",
    "        print('age = ' + str(age[i]))\n",
    "        if bc == 0:\n",
    "            under += 1\n",
    "            print('Result: BMI Underweight')\n",
    "        elif bc == 1:\n",
    "            normal += 1\n",
    "            print('Result: BMI Normal')\n",
    "        elif bc == 2:\n",
    "            print('Result: BMI Overweight')\n",
    "            over += 1\n",
    "        elif bc == 3:\n",
    "            obe += 1   \n",
    "            print('Result: BMI Obese')\n",
    "        print('============================')\n",
    "    \n",
    "    # sum results\n",
    "    rest = []\n",
    "    rest.append(under)\n",
    "    rest.append(normal)\n",
    "    rest.append(over)\n",
    "    rest.append(obe)\n",
    "    print('Total count = ')\n",
    "    print(rest)\n",
    "    \n",
    "    return rest"
   ]
  },
  {
   "cell_type": "code",
   "execution_count": null,
   "metadata": {},
   "outputs": [],
   "source": [
    "# calculate how many people for each group (4)\n",
    "r = groupOfPeople()"
   ]
  },
  {
   "cell_type": "code",
   "execution_count": null,
   "metadata": {},
   "outputs": [],
   "source": [
    "cat = np.arange(4) # number of categories\n",
    "plt.bar(cat, r, 0.5) # call the plot\n",
    "plt.show()"
   ]
  },
  {
   "cell_type": "code",
   "execution_count": null,
   "metadata": {
    "collapsed": true
   },
   "outputs": [],
   "source": []
  }
 ],
 "metadata": {
  "kernelspec": {
   "display_name": "Python 2",
   "language": "python",
   "name": "python2"
  },
  "language_info": {
   "codemirror_mode": {
    "name": "ipython",
    "version": 2
   },
   "file_extension": ".py",
   "mimetype": "text/x-python",
   "name": "python",
   "nbconvert_exporter": "python",
   "pygments_lexer": "ipython2",
   "version": "2.7.13"
  }
 },
 "nbformat": 4,
 "nbformat_minor": 2
}
